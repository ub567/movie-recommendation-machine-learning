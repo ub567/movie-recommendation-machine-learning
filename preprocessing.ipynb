{
 "cells": [
  {
   "cell_type": "code",
   "execution_count": 1,
   "id": "50836185-604f-45a0-9290-af6419790b0e",
   "metadata": {},
   "outputs": [
    {
     "name": "stdout",
     "output_type": "stream",
     "text": [
      "Optimized preprocessing complete!\n",
      "Final cosine_sim size: 69.81MB\n"
     ]
    }
   ],
   "source": [
    "import pandas as pd\n",
    "import ast\n",
    "from sklearn.feature_extraction.text import TfidfVectorizer\n",
    "from sklearn.metrics.pairwise import linear_kernel\n",
    "import pickle\n",
    "from scipy import sparse\n",
    "import numpy as np\n",
    "import gzip\n",
    "import shutil\n",
    "import os\n",
    "\n",
    "def preprocess_tmdb_data(movies_path='tmdb_5000_movies.csv.zip', credits_path='tmdb_5000_credits.csv.zip'):\n",
    "    \"\"\"\n",
    "    Optimized TMDB data preprocessing with size reduction\n",
    "    Returns: (movies_df, cosine_sim, indices)\n",
    "    \"\"\"\n",
    "    \n",
    "    # Load and merge datasets \n",
    "    try:\n",
    "        movies = pd.read_csv(movies_path)\n",
    "        credits = pd.read_csv(credits_path)\n",
    "    except FileNotFoundError as e:\n",
    "        print(f\"Error loading files: {e}\")\n",
    "        raise\n",
    "\n",
    "    movies = movies.merge(credits, left_on='id', right_on='movie_id')\n",
    "\n",
    "    # Helper functions \n",
    "    def safe_json_extract(text, field='name'):\n",
    "        try:\n",
    "            lst = ast.literal_eval(text) if isinstance(text, str) else text\n",
    "            return ' '.join([str(i.get(field, '')) for i in lst]) if lst else ''\n",
    "        except (ValueError, SyntaxError, AttributeError):\n",
    "            return ''\n",
    "\n",
    "    def get_director(crew_json):\n",
    "        try:\n",
    "            crew = ast.literal_eval(crew_json) if isinstance(crew_json, str) else crew_json\n",
    "            directors = [m['name'] for m in crew if m.get('job') == 'Director']\n",
    "            return directors[0] if directors else ''\n",
    "        except (ValueError, SyntaxError, AttributeError, TypeError):\n",
    "            return ''\n",
    "    \n",
    "    def get_top_cast(cast_json):\n",
    "        try:\n",
    "            cast = ast.literal_eval(cast_json) if isinstance(cast_json, str) else cast_json\n",
    "            return ' '.join([m['name'] for m in cast[:3]])\n",
    "        except (ValueError, SyntaxError, AttributeError, TypeError):\n",
    "            return ''\n",
    "    \n",
    "    def get_detailed_cast(cast_json):\n",
    "        try:\n",
    "            cast = ast.literal_eval(cast_json) if isinstance(cast_json, str) else cast_json\n",
    "            return [{\n",
    "                'name': m.get('name', ''),\n",
    "                'character': m.get('character', ''),\n",
    "                'profile_path': m.get('profile_path', '')\n",
    "            } for m in cast[:5]]  # Top 5 cast members\n",
    "        except (ValueError, SyntaxError, AttributeError, TypeError):\n",
    "            return []\n",
    "\n",
    "    # Process columns \n",
    "    movies['genres_str'] = movies['genres'].apply(lambda x: safe_json_extract(x))\n",
    "    movies['keywords_str'] = movies['keywords'].apply(lambda x: safe_json_extract(x))\n",
    "    movies['director'] = movies['crew'].apply(get_director)\n",
    "    movies['top_cast'] = movies['cast'].apply(get_top_cast)\n",
    "    movies['detailed_cast'] = movies['cast'].apply(get_detailed_cast)\n",
    "    movies['genres_list'] = movies['genres'].apply(\n",
    "        lambda x: [i['name'] for i in ast.literal_eval(x)] if isinstance(x, str) else []\n",
    "    )\n",
    "    movies['combined_features'] = (\n",
    "        movies['genres_str'] + ' ' +\n",
    "        movies['keywords_str'] + ' ' +\n",
    "        movies['director'] + ' ' +\n",
    "        movies['top_cast'] + ' ' +\n",
    "        movies['overview'].fillna('')\n",
    "    )\n",
    "\n",
    "    # Fill missing values \n",
    "    movies['runtime'] = movies['runtime'].fillna(0).astype(int) if 'runtime' in movies.columns else 0\n",
    "    movies['vote_average'] = movies['vote_average'].fillna(0) if 'vote_average' in movies.columns else 0\n",
    "    movies['poster_path'] = movies['poster_path'].fillna('') if 'poster_path' in movies.columns else ''\n",
    "    movies['release_date'] = movies['release_date'].fillna('') if 'release_date' in movies.columns else ''\n",
    "    \n",
    "    # ===== OPTIMIZED SIMILARITY MATRIX GENERATION =====\n",
    "    tfidf = TfidfVectorizer(\n",
    "        stop_words='english',\n",
    "        max_features=8000,      # Reduced features\n",
    "        ngram_range=(1, 2),     # Better coverage , consider both unigram and bygram word\n",
    "        min_df=2,               # Filter rare terms less than 2 times\n",
    "        max_df=0.85             # Filter common terms more than 85% document\n",
    "    )\n",
    "    \n",
    "    tfidf_matrix = tfidf.fit_transform(movies['combined_features'])\n",
    "    cosine_sim = linear_kernel(tfidf_matrix, tfidf_matrix)\n",
    "    \n",
    "    # Optimization 1: Convert to float32\n",
    "    cosine_sim = cosine_sim.astype(np.float32)\n",
    "    \n",
    "    # Optimization 2: Convert to sparse format\n",
    "    if not sparse.issparse(cosine_sim):\n",
    "        cosine_sim = sparse.csr_matrix(cosine_sim)\n",
    "    \n",
    "    # Create indices \n",
    "    indices = pd.Series(movies.index, index=movies['title_y']).drop_duplicates()\n",
    "\n",
    "    # ===== OPTIMIZED SAVING =====\n",
    "    # 1. Save with protocol 4\n",
    "    with open('cosine_sim.pkl', 'wb') as f:\n",
    "        pickle.dump(cosine_sim, f, protocol=4)\n",
    "    \n",
    "    # 2. Compress the file\n",
    "    with open('cosine_sim.pkl', 'rb') as f_in:\n",
    "        with gzip.open('cosine_sim.pkl.gz', 'wb') as f_out:\n",
    "            shutil.copyfileobj(f_in, f_out)\n",
    "    \n",
    "    # Save other files \n",
    "    movies.to_pickle('processed_movies.pkl')\n",
    "    with open('indices.pkl', 'wb') as f:\n",
    "        pickle.dump(indices, f)\n",
    "    \n",
    "    print(\"Optimized preprocessing complete!\")\n",
    "    print(f\"Final cosine_sim size: {os.path.getsize('cosine_sim.pkl.gz')/1024/1024:.2f}MB\")\n",
    "    \n",
    "    return movies, cosine_sim, indices\n",
    "\n",
    "if __name__ == '__main__':\n",
    "    df, cos_sim, index_map = preprocess_tmdb_data()"
   ]
  },
  {
   "cell_type": "code",
   "execution_count": null,
   "id": "ec0e51c2-813e-4c45-bfa8-eaefa625ca07",
   "metadata": {},
   "outputs": [],
   "source": [
    "if __name__ == '__main__':\n",
    "    # Example usage\n",
    "    try:\n",
    "        df, cos_sim, index_map = preprocess_tmdb_data()\n",
    "        print(\"\\nSample movie data:\")\n",
    "        print(f\"Title: {df['title_y'].iloc[0]}\")\n",
    "        print(f\"Poster path: {df['poster_path'].iloc[0]}\")\n",
    "        \n",
    "        # Check cast data\n",
    "        first_movie_cast = df['detailed_cast'].iloc[0]\n",
    "        if first_movie_cast:\n",
    "            print(\"\\nFirst cast member details:\")\n",
    "            print(f\"Name: {first_movie_cast[0]['name']}\")\n",
    "            print(f\"Character: {first_movie_cast[0]['character']}\")\n",
    "            print(f\"Profile path: {first_movie_cast[0]['profile_path']}\")\n",
    "        else:\n",
    "            print(\"No cast data available for first movie\")\n",
    "            \n",
    "        # Analyze poster path availability\n",
    "        valid_posters = df['poster_path'].apply(lambda x: bool(x and str(x).strip())).sum()\n",
    "        total_movies = len(df)\n",
    "        print(f\"\\nPoster Path Analysis:\")\n",
    "        print(f\"Movies with valid poster paths: {valid_posters}/{total_movies} ({valid_posters/total_movies:.1%})\")\n",
    "        \n",
    "    except Exception as e:\n",
    "        print(f\"Error in preprocessing: {e}\")\n"
   ]
  },
  {
   "cell_type": "code",
   "execution_count": 4,
   "id": "633331aa-66ac-4c57-92e9-8319fb872191",
   "metadata": {},
   "outputs": [
    {
     "name": "stdout",
     "output_type": "stream",
     "text": [
      "Requirement already satisfied: numpy in c:\\users\\ubaid\\anaconda3\\envs\\project\\lib\\site-packages (2.0.2)\n"
     ]
    }
   ],
   "source": [
    "!pip install numpy"
   ]
  },
  {
   "cell_type": "code",
   "execution_count": 7,
   "id": "3d3b7e62-46e0-41a3-881c-d1cefe3736c8",
   "metadata": {},
   "outputs": [
    {
     "name": "stdout",
     "output_type": "stream",
     "text": [
      "pandas 2.2.3\n"
     ]
    }
   ],
   "source": [
    "print('pandas', pd.__version__)"
   ]
  },
  {
   "cell_type": "code",
   "execution_count": 11,
   "id": "aba07b60-9db3-4528-8988-66312bb14dfb",
   "metadata": {},
   "outputs": [
    {
     "name": "stdout",
     "output_type": "stream",
     "text": [
      "Requirement already satisfied: scikit-learn in c:\\users\\ubaid\\anaconda3\\envs\\project\\lib\\site-packages (1.6.1)\n",
      "Requirement already satisfied: numpy>=1.19.5 in c:\\users\\ubaid\\anaconda3\\envs\\project\\lib\\site-packages (from scikit-learn) (2.0.2)\n",
      "Requirement already satisfied: scipy>=1.6.0 in c:\\users\\ubaid\\anaconda3\\envs\\project\\lib\\site-packages (from scikit-learn) (1.13.1)\n",
      "Requirement already satisfied: joblib>=1.2.0 in c:\\users\\ubaid\\anaconda3\\envs\\project\\lib\\site-packages (from scikit-learn) (1.4.2)\n",
      "Requirement already satisfied: threadpoolctl>=3.1.0 in c:\\users\\ubaid\\anaconda3\\envs\\project\\lib\\site-packages (from scikit-learn) (3.6.0)\n"
     ]
    }
   ],
   "source": [
    "!pip install scikit-learn"
   ]
  },
  {
   "cell_type": "code",
   "execution_count": 13,
   "id": "b1362bfe-b541-4586-9f8a-b31412a96c50",
   "metadata": {},
   "outputs": [
    {
     "ename": "NameError",
     "evalue": "name 'sklearn' is not defined",
     "output_type": "error",
     "traceback": [
      "\u001b[1;31m---------------------------------------------------------------------------\u001b[0m",
      "\u001b[1;31mNameError\u001b[0m                                 Traceback (most recent call last)",
      "Cell \u001b[1;32mIn[13], line 1\u001b[0m\n\u001b[1;32m----> 1\u001b[0m \u001b[38;5;28mprint\u001b[39m(\u001b[38;5;124m'\u001b[39m\u001b[38;5;124msklearn\u001b[39m\u001b[38;5;124m'\u001b[39m,\u001b[43msklearn\u001b[49m\u001b[38;5;241m.\u001b[39m__version__)\n",
      "\u001b[1;31mNameError\u001b[0m: name 'sklearn' is not defined"
     ]
    }
   ],
   "source": [
    "print('sklearn',sklearn.__version__)"
   ]
  },
  {
   "cell_type": "code",
   "execution_count": 2,
   "id": "616c851b-871e-4686-8762-673862d57cf2",
   "metadata": {},
   "outputs": [
    {
     "name": "stdout",
     "output_type": "stream",
     "text": [
      "Requirement already satisfied: numpy in c:\\users\\ubaid\\anaconda3\\envs\\project\\lib\\site-packages (2.0.2)\n",
      "Note: you may need to restart the kernel to use updated packages.\n"
     ]
    }
   ],
   "source": [
    "pip install numpy \n"
   ]
  },
  {
   "cell_type": "code",
   "execution_count": null,
   "id": "bcafbfb3-53d5-460c-bd42-73fb9c7f4536",
   "metadata": {},
   "outputs": [],
   "source": []
  }
 ],
 "metadata": {
  "kernelspec": {
   "display_name": "Python 3 (ipykernel)",
   "language": "python",
   "name": "python3"
  },
  "language_info": {
   "codemirror_mode": {
    "name": "ipython",
    "version": 3
   },
   "file_extension": ".py",
   "mimetype": "text/x-python",
   "name": "python",
   "nbconvert_exporter": "python",
   "pygments_lexer": "ipython3",
   "version": "3.9.21"
  }
 },
 "nbformat": 4,
 "nbformat_minor": 5
}
